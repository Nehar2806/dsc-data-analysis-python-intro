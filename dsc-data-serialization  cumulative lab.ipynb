{
 "cells": [
  {
   "cell_type": "code",
   "execution_count": 5,
   "id": "55f8ccb1-1599-42f8-ad28-bc43e2324f4b",
   "metadata": {},
   "outputs": [],
   "source": [
    "import json\n",
    "import csv"
   ]
  },
  {
   "cell_type": "code",
   "execution_count": 13,
   "id": "269c9ad7-e126-4435-8ea8-f128ea67934d",
   "metadata": {},
   "outputs": [],
   "source": [
    "world_cup_file = open(\"data/world_cup_2018.json\", encoding=\"utf8\")\n",
    "population_file = open(\"data/country_populations.csv\")"
   ]
  },
  {
   "cell_type": "code",
   "execution_count": 14,
   "id": "d68a98ec-87fc-4c32-b0cf-b55f57ec40e4",
   "metadata": {},
   "outputs": [],
   "source": [
    "world_cup_data=json.load(world_cup_file)\n",
    "world_cup_file.close()"
   ]
  },
  {
   "cell_type": "code",
   "execution_count": 15,
   "id": "e230f453-b21f-4fc1-be50-89fd46e8c010",
   "metadata": {},
   "outputs": [],
   "source": [
    "# Check that the overall data structure is a dictionary\n",
    "assert type(world_cup_data) == dict\n",
    "\n",
    "# Check that the dictionary has 2 keys, 'name' and 'rounds'\n",
    "assert list(world_cup_data.keys()) == [\"name\", \"rounds\"]"
   ]
  },
  {
   "cell_type": "code",
   "execution_count": 22,
   "id": "c0608a88-95b4-4120-ab9d-2088e6780e2b",
   "metadata": {},
   "outputs": [],
   "source": [
    "# Replace None with appropriate code\n",
    "\n",
    "reader=csv.DictReader(population_file)\n",
    "population_data=list(reader)\n",
    "\n",
    "# Close the file now that we're done reading from it\n",
    "population_file.close()"
   ]
  },
  {
   "cell_type": "code",
   "execution_count": 23,
   "id": "e35264ef-98e0-465c-99ab-81309408c93c",
   "metadata": {},
   "outputs": [],
   "source": [
    "\n",
    "# Check that the overall data structure is a list\n",
    "assert type(population_data) == list\n",
    "\n",
    "# Check that the 0th element is a dictionary\n",
    "# (csv.DictReader interface differs slightly by Python version;\n",
    "# either a dict or an OrderedDict is fine here)\n",
    "from collections import OrderedDict\n",
    "\n",
    "assert type(population_data[0]) == dict or type(population_data[0]) == OrderedDict"
   ]
  },
  {
   "cell_type": "code",
   "execution_count": 24,
   "id": "46a14361-e384-409f-9d68-16d83702f7fe",
   "metadata": {},
   "outputs": [
    {
     "data": {
      "text/plain": [
       "dict_keys(['name', 'rounds'])"
      ]
     },
     "execution_count": 24,
     "metadata": {},
     "output_type": "execute_result"
    }
   ],
   "source": [
    "world_cup_data.keys()"
   ]
  },
  {
   "cell_type": "code",
   "execution_count": 25,
   "id": "e0e57f34-659b-4e5d-9299-7f0a32e6c0bb",
   "metadata": {},
   "outputs": [
    {
     "data": {
      "text/plain": [
       "'World Cup 2018'"
      ]
     },
     "execution_count": 25,
     "metadata": {},
     "output_type": "execute_result"
    }
   ],
   "source": [
    "world_cup_data[\"name\"]"
   ]
  },
  {
   "cell_type": "code",
   "execution_count": 26,
   "id": "966cbda7-f77d-4a38-880f-75df69dd607d",
   "metadata": {},
   "outputs": [
    {
     "name": "stdout",
     "output_type": "stream",
     "text": [
      "type(rounds): <class 'list'>\n",
      "len(rounds): 20\n",
      "type(rounds[3]) <class 'dict'>\n",
      "rounds[3]:\n"
     ]
    },
    {
     "data": {
      "text/plain": [
       "{'name': 'Matchday 4',\n",
       " 'matches': [{'num': 9,\n",
       "   'date': '2018-06-17',\n",
       "   'time': '21:00',\n",
       "   'team1': {'name': 'Brazil', 'code': 'BRA'},\n",
       "   'team2': {'name': 'Switzerland', 'code': 'SUI'},\n",
       "   'score1': 1,\n",
       "   'score2': 1,\n",
       "   'score1i': 1,\n",
       "   'score2i': 0,\n",
       "   'goals1': [{'name': 'Coutinho', 'minute': 20, 'score1': 1, 'score2': 0}],\n",
       "   'goals2': [{'name': 'Zuber', 'minute': 50, 'score1': 1, 'score2': 1}],\n",
       "   'group': 'Group E',\n",
       "   'stadium': {'key': 'rostov', 'name': 'Rostov Arena'},\n",
       "   'city': 'Rostov-on-Don',\n",
       "   'timezone': 'UTC+3'},\n",
       "  {'num': 10,\n",
       "   'date': '2018-06-17',\n",
       "   'time': '16:00',\n",
       "   'team1': {'name': 'Costa Rica', 'code': 'CRC'},\n",
       "   'team2': {'name': 'Serbia', 'code': 'SRB'},\n",
       "   'score1': 0,\n",
       "   'score2': 1,\n",
       "   'score1i': 0,\n",
       "   'score2i': 0,\n",
       "   'goals1': [],\n",
       "   'goals2': [{'name': 'Kolarov', 'minute': 56, 'score1': 0, 'score2': 1}],\n",
       "   'group': 'Group E',\n",
       "   'stadium': {'key': 'samara', 'name': 'Samara Arena'},\n",
       "   'city': 'Samara',\n",
       "   'timezone': 'UTC+4'},\n",
       "  {'num': 11,\n",
       "   'date': '2018-06-17',\n",
       "   'time': '18:00',\n",
       "   'team1': {'name': 'Germany', 'code': 'GER'},\n",
       "   'team2': {'name': 'Mexico', 'code': 'MEX'},\n",
       "   'score1': 0,\n",
       "   'score2': 1,\n",
       "   'score1i': 0,\n",
       "   'score2i': 1,\n",
       "   'goals1': [],\n",
       "   'goals2': [{'name': 'Lozano', 'minute': 35, 'score1': 0, 'score2': 1}],\n",
       "   'group': 'Group F',\n",
       "   'stadium': {'key': 'luzhniki', 'name': 'Luzhniki Stadium'},\n",
       "   'city': 'Moscow',\n",
       "   'timezone': 'UTC+3'}]}"
      ]
     },
     "execution_count": 26,
     "metadata": {},
     "output_type": "execute_result"
    }
   ],
   "source": [
    "#Extracting Rounds\n",
    "# Run this cell without changes\n",
    "rounds = world_cup_data[\"rounds\"]\n",
    "\n",
    "print(\"type(rounds):\", type(rounds))\n",
    "print(\"len(rounds):\", len(rounds))\n",
    "print(\"type(rounds[3])\", type(rounds[3]))\n",
    "print(\"rounds[3]:\")\n",
    "rounds[3]\n"
   ]
  },
  {
   "cell_type": "code",
   "execution_count": 29,
   "id": "3bc74b78-9721-42a7-ab7c-cd9c22a3e91d",
   "metadata": {},
   "outputs": [
    {
     "data": {
      "text/plain": [
       "{'num': 1,\n",
       " 'date': '2018-06-14',\n",
       " 'time': '18:00',\n",
       " 'team1': {'name': 'Russia', 'code': 'RUS'},\n",
       " 'team2': {'name': 'Saudi Arabia', 'code': 'KSA'},\n",
       " 'score1': 5,\n",
       " 'score2': 0,\n",
       " 'score1i': 2,\n",
       " 'score2i': 0,\n",
       " 'goals1': [{'name': 'Gazinsky', 'minute': 12, 'score1': 1, 'score2': 0},\n",
       "  {'name': 'Cheryshev', 'minute': 43, 'score1': 2, 'score2': 0},\n",
       "  {'name': 'Dzyuba', 'minute': 71, 'score1': 3, 'score2': 0},\n",
       "  {'name': 'Cheryshev', 'minute': 90, 'offset': 1, 'score1': 4, 'score2': 0},\n",
       "  {'name': 'Golovin', 'minute': 90, 'offset': 4, 'score1': 5, 'score2': 0}],\n",
       " 'goals2': [],\n",
       " 'group': 'Group A',\n",
       " 'stadium': {'key': 'luzhniki', 'name': 'Luzhniki Stadium'},\n",
       " 'city': 'Moscow',\n",
       " 'timezone': 'UTC+3'}"
      ]
     },
     "execution_count": 29,
     "metadata": {},
     "output_type": "execute_result"
    }
   ],
   "source": [
    "#Extracting matches\n",
    "matches = []\n",
    "\n",
    "# \"round\" is a built-in function in Python so we use \"round_\" instead\n",
    "for round_ in rounds:\n",
    "    # Extract the list of matches for this round\n",
    "    round_matches = round_[\"matches\"]\n",
    "    # Add them to the overall list of matches\n",
    "    matches.extend(round_matches)\n",
    "    None\n",
    "\n",
    "matches[0]\n"
   ]
  },
  {
   "cell_type": "code",
   "execution_count": 31,
   "id": "71c5faf7-1649-45c3-b0eb-bd1a2d6f6994",
   "metadata": {},
   "outputs": [],
   "source": [
    "assert len(matches)==64\n",
    "assert type(matches[0])==dict"
   ]
  },
  {
   "cell_type": "code",
   "execution_count": 32,
   "id": "95379fc8-a133-48a0-b20f-2b929c00ef3a",
   "metadata": {},
   "outputs": [
    {
     "name": "stdout",
     "output_type": "stream",
     "text": [
      "{'name': 'Russia', 'code': 'RUS'}\n",
      "{'name': 'Saudi Arabia', 'code': 'KSA'}\n"
     ]
    }
   ],
   "source": [
    "#Extracting Teams\n",
    "\n",
    "print(matches[0][\"team1\"])\n",
    "print(matches[0][\"team2\"])"
   ]
  },
  {
   "cell_type": "code",
   "execution_count": 43,
   "id": "aae5a7d1-39d5-4752-a632-6da2e9feb51b",
   "metadata": {},
   "outputs": [
    {
     "data": {
      "text/plain": [
       "['Argentina',\n",
       " 'Australia',\n",
       " 'Belgium',\n",
       " 'Brazil',\n",
       " 'Colombia',\n",
       " 'Costa Rica',\n",
       " 'Croatia',\n",
       " 'Denmark',\n",
       " 'Egypt',\n",
       " 'England',\n",
       " 'France',\n",
       " 'Germany',\n",
       " 'Iceland',\n",
       " 'Iran',\n",
       " 'Japan',\n",
       " 'Mexico',\n",
       " 'Morocco',\n",
       " 'Nigeria',\n",
       " 'Panama',\n",
       " 'Peru',\n",
       " 'Poland',\n",
       " 'Portugal',\n",
       " 'Russia',\n",
       " 'Saudi Arabia',\n",
       " 'Senegal',\n",
       " 'Serbia',\n",
       " 'South Korea',\n",
       " 'Spain',\n",
       " 'Sweden',\n",
       " 'Switzerland',\n",
       " 'Tunisia',\n",
       " 'Uruguay']"
      ]
     },
     "execution_count": 43,
     "metadata": {},
     "output_type": "execute_result"
    }
   ],
   "source": [
    "teams_set=set()\n",
    "\n",
    "for match in matches:\n",
    "    teams_set.add(match[\"team1\"][\"name\"])\n",
    "    teams_set.add(match[\"team2\"][\"name\"])\n",
    "teams=sorted(list(teams_set))\n",
    "teams "
   ]
  },
  {
   "cell_type": "code",
   "execution_count": 44,
   "id": "edc4c459-bc54-40fd-9576-752ddb0edd08",
   "metadata": {},
   "outputs": [],
   "source": [
    "assert type(teams) == list\n",
    "\n",
    "# 32 teams competed in the 2018 World Cup\n",
    "assert len(teams) == 32\n",
    "\n",
    "# Each element of teams should be a string\n",
    "# (the name), not a dictionary\n",
    "assert type(teams[0]) == str"
   ]
  },
  {
   "cell_type": "code",
   "execution_count": 49,
   "id": "18981046-85a1-45f1-917c-b69f5148db08",
   "metadata": {},
   "outputs": [],
   "source": [
    "#STEP2: Associating countries with 2018 World Cup Performance\n",
    "\n",
    "combined_data = {team: {\"wins\": 0} for team in teams}"
   ]
  },
  {
   "cell_type": "code",
   "execution_count": 50,
   "id": "d188f12e-494a-4f55-879a-b9e4a92ab70a",
   "metadata": {},
   "outputs": [],
   "source": [
    "assert type(combined_data) == dict\n",
    "\n",
    "# the keys should be strings\n",
    "assert type(list(combined_data.keys())[0]) == str\n",
    "\n",
    "# the values should be dictionaries\n",
    "assert combined_data[\"Japan\"] == {\"wins\": 0}"
   ]
  },
  {
   "cell_type": "code",
   "execution_count": 51,
   "id": "21ef8aa7-bcaf-49f9-84fe-968aca03289a",
   "metadata": {},
   "outputs": [],
   "source": [
    "#ADDING WINS FROM MATCHES\n",
    "\n",
    "def find_winner(match):\n",
    "    if match[\"score1\"]> match[\"score2\"]:\n",
    "        return match[\"team1\"][\"name\"]\n",
    "    elif match[\"score2\"]>match[\"score1\"]:\n",
    "        return match[\"team2\"][\"name\"]\n",
    "    else:\n",
    "        return None"
   ]
  },
  {
   "cell_type": "code",
   "execution_count": 53,
   "id": "5dc22194-b182-4d20-a12d-0adbd4c694ba",
   "metadata": {},
   "outputs": [],
   "source": [
    "assert find_winner(matches[0]) == \"Russia\"\n",
    "assert find_winner(matches[1]) == \"Uruguay\"\n",
    "assert find_winner(matches[2]) == None"
   ]
  },
  {
   "cell_type": "code",
   "execution_count": 54,
   "id": "a3db4e6c-21a5-4d6a-86bc-ac0bda2335f2",
   "metadata": {},
   "outputs": [
    {
     "data": {
      "text/plain": [
       "{'Argentina': {'wins': 1},\n",
       " 'Australia': {'wins': 0},\n",
       " 'Belgium': {'wins': 6},\n",
       " 'Brazil': {'wins': 3},\n",
       " 'Colombia': {'wins': 2},\n",
       " 'Costa Rica': {'wins': 0},\n",
       " 'Croatia': {'wins': 3},\n",
       " 'Denmark': {'wins': 1},\n",
       " 'Egypt': {'wins': 0},\n",
       " 'England': {'wins': 3},\n",
       " 'France': {'wins': 6},\n",
       " 'Germany': {'wins': 1},\n",
       " 'Iceland': {'wins': 0},\n",
       " 'Iran': {'wins': 1},\n",
       " 'Japan': {'wins': 1},\n",
       " 'Mexico': {'wins': 2},\n",
       " 'Morocco': {'wins': 0},\n",
       " 'Nigeria': {'wins': 1},\n",
       " 'Panama': {'wins': 0},\n",
       " 'Peru': {'wins': 1},\n",
       " 'Poland': {'wins': 1},\n",
       " 'Portugal': {'wins': 1},\n",
       " 'Russia': {'wins': 2},\n",
       " 'Saudi Arabia': {'wins': 1},\n",
       " 'Senegal': {'wins': 1},\n",
       " 'Serbia': {'wins': 1},\n",
       " 'South Korea': {'wins': 1},\n",
       " 'Spain': {'wins': 1},\n",
       " 'Sweden': {'wins': 3},\n",
       " 'Switzerland': {'wins': 1},\n",
       " 'Tunisia': {'wins': 1},\n",
       " 'Uruguay': {'wins': 4}}"
      ]
     },
     "execution_count": 54,
     "metadata": {},
     "output_type": "execute_result"
    }
   ],
   "source": [
    "for match in matches:\n",
    "    winner=find_winner(match)\n",
    "    if winner:\n",
    "        combined_data[winner]['wins']+=1\n",
    "\n",
    "combined_data"
   ]
  },
  {
   "cell_type": "code",
   "execution_count": 55,
   "id": "3e767b2d-fe8c-4d4b-93ba-fd6b235109bc",
   "metadata": {},
   "outputs": [
    {
     "name": "stdout",
     "output_type": "stream",
     "text": [
      "Mean number of wins: 1.5625\n",
      "Median number of wins: 1.0\n",
      "Standard deviation of number of wins: 1.5194057226429023\n"
     ]
    }
   ],
   "source": [
    "#ANALYSIS OF WIN\n",
    "\n",
    "import numpy as np\n",
    "\n",
    "wins = [val[\"wins\"] for val in combined_data.values()]\n",
    "\n",
    "print(\"Mean number of wins:\", np.mean(wins))\n",
    "print(\"Median number of wins:\", np.median(wins))\n",
    "print(\"Standard deviation of number of wins:\", np.std(wins))\n"
   ]
  },
  {
   "cell_type": "code",
   "execution_count": 56,
   "id": "4a56f7d6-7e73-4c03-aafb-387c5fe8bdd8",
   "metadata": {},
   "outputs": [
    {
     "data": {
      "image/png": "[encoded data removed]",
      "text/plain": [
       "<Figure size 1200x700 with 2 Axes>"
      ]
     },
     "metadata": {},
     "output_type": "display_data"
    }
   ],
   "source": [
    "#visualization of wins\n",
    "\n",
    "import matplotlib.pyplot as plt\n",
    "\n",
    "# Set up figure and axes\n",
    "fig, (ax1, ax2) = plt.subplots(ncols=2, figsize=(12, 7))\n",
    "fig.set_tight_layout(True)\n",
    "\n",
    "# Histogram of Wins and Frequencies\n",
    "ax1.hist(x=wins, bins=range(8), align=\"left\", color=\"green\")\n",
    "ax1.set_xticks(range(7))\n",
    "ax1.set_xlabel(\"Wins in 2018 World Cup\")\n",
    "ax1.set_ylabel(\"Frequency\")\n",
    "ax1.set_title(\"Distribution of Wins\")\n",
    "\n",
    "# Horizontal Bar Graph of Wins by Country\n",
    "ax2.barh(teams[::-1], wins[::-1], color=\"green\")\n",
    "ax2.set_xlabel(\"Wins in 2018 World Cup\")\n",
    "ax2.set_title(\"Wins by Country\");"
   ]
  },
  {
   "cell_type": "code",
   "execution_count": 57,
   "id": "f9281562-9457-42aa-a7be-9c9886a8c7c3",
   "metadata": {},
   "outputs": [
    {
     "data": {
      "text/plain": [
       "16930"
      ]
     },
     "execution_count": 57,
     "metadata": {},
     "output_type": "execute_result"
    }
   ],
   "source": [
    "#Associating countries with 2018 Population\n",
    "\n",
    "# Run this cell without changes\n",
    "len(population_data)"
   ]
  },
  {
   "cell_type": "code",
   "execution_count": 58,
   "id": "c0541c85-0158-49fa-8994-e6acec1211d1",
   "metadata": {},
   "outputs": [
    {
     "data": {
      "text/plain": [
       "array([{'Country Name': 'Turks and Caicos Islands', 'Country Code': 'TCA', 'Year': '2011', 'Value': '30846'},\n",
       "       {'Country Name': 'Australia', 'Country Code': 'AUS', 'Year': '1988', 'Value': '16532164'},\n",
       "       {'Country Name': 'French Polynesia', 'Country Code': 'PYF', 'Year': '1974', 'Value': '129960'},\n",
       "       {'Country Name': 'Pacific island small states', 'Country Code': 'PSS', 'Year': '2020', 'Value': '2595522'},\n",
       "       {'Country Name': 'Nicaragua', 'Country Code': 'NIC', 'Year': '1980', 'Value': '3252403'},\n",
       "       {'Country Name': 'Guinea-Bissau', 'Country Code': 'GNB', 'Year': '2017', 'Value': '1877072'},\n",
       "       {'Country Name': 'Zambia', 'Country Code': 'ZMB', 'Year': '2008', 'Value': '13021324'},\n",
       "       {'Country Name': 'Equatorial Guinea', 'Country Code': 'GNQ', 'Year': '1970', 'Value': '320803'},\n",
       "       {'Country Name': 'St. Lucia', 'Country Code': 'LCA', 'Year': '1983', 'Value': '125044'},\n",
       "       {'Country Name': 'Niger', 'Country Code': 'NER', 'Year': '1995', 'Value': '9714529'}],\n",
       "      dtype=object)"
      ]
     },
     "execution_count": 58,
     "metadata": {},
     "output_type": "execute_result"
    }
   ],
   "source": [
    "np.random.seed(42)\n",
    "population_record_samples = np.random.choice(population_data, size=10)\n",
    "population_record_samples"
   ]
  },
  {
   "cell_type": "code",
   "execution_count": 65,
   "id": "fa4fe327-00ce-48bd-8674-cff03c30e4b5",
   "metadata": {},
   "outputs": [
    {
     "data": {
      "text/plain": [
       "27"
      ]
     },
     "execution_count": 65,
     "metadata": {},
     "output_type": "execute_result"
    }
   ],
   "source": [
    "#Filtering population data\n",
    "\n",
    "population_data_filtered = []\n",
    "\n",
    "for record in population_data:\n",
    "    if record['Country Name']in teams and record['Year']=='2018':\n",
    "     population_data_filtered.append(record)\n",
    "\n",
    "len(population_data_filtered)"
   ]
  },
  {
   "cell_type": "code",
   "execution_count": 75,
   "id": "3637bca0-3a11-4c8f-b225-9f68742ee0ce",
   "metadata": {},
   "outputs": [
    {
     "data": {
      "text/plain": [
       "{'Country Name': 'French Polynesia',\n",
       " 'Country Code': 'PYF',\n",
       " 'Year': '1974',\n",
       " 'Value': '129960'}"
      ]
     },
     "execution_count": 75,
     "metadata": {},
     "output_type": "execute_result"
    }
   ],
   "source": [
    "population_record_samples[2]"
   ]
  },
  {
   "cell_type": "code",
   "execution_count": null,
   "id": "de01d6ab-3149-437c-9260-db6d863fd344",
   "metadata": {},
   "outputs": [],
   "source": []
  },
  {
   "cell_type": "code",
   "execution_count": 77,
   "id": "8ca78c6f-49da-4e4e-a82e-1c29f80e1a61",
   "metadata": {},
   "outputs": [
    {
     "name": "stdout",
     "output_type": "stream",
     "text": [
      "Russia\n",
      "Argentina\n"
     ]
    }
   ],
   "source": [
    "#Normalizing location in Population data\n",
    "\n",
    "# Run this cell without changes\n",
    "def normalize_location(country_name):\n",
    "    \"\"\"\n",
    "    Given a country name, return the name that the\n",
    "    country uses when playing in the FIFA World Cup\n",
    "    \"\"\"\n",
    "    name_sub_dict = {\n",
    "        \"Russian Federation\": \"Russia\",\n",
    "        \"Egypt, Arab Rep.\": \"Egypt\",\n",
    "        \"Iran, Islamic Rep.\": \"Iran\",\n",
    "        \"Korea, Rep.\": \"South Korea\",\n",
    "        \"United Kingdom\": \"England\",\n",
    "    }\n",
    "    # The .get method returns the corresponding value from\n",
    "    # the dict if present, otherwise returns country_name\n",
    "    return name_sub_dict.get(country_name, country_name)\n",
    "\n",
    "\n",
    "# Example where normalized location is different\n",
    "print(normalize_location(\"Russian Federation\"))\n",
    "# Example where normalized location is the same\n",
    "print(normalize_location(\"Argentina\"))"
   ]
  },
  {
   "cell_type": "code",
   "execution_count": 94,
   "id": "01447fbb-c395-4490-87a5-6192df7f0e6e",
   "metadata": {},
   "outputs": [
    {
     "data": {
      "text/plain": [
       "32"
      ]
     },
     "execution_count": 94,
     "metadata": {},
     "output_type": "execute_result"
    }
   ],
   "source": [
    "#rewrite the normalized country name\n",
    "\n",
    "population_data_filtered = []\n",
    "\n",
    "for record in population_data:\n",
    "    # Get normalized country name\n",
    "    normalized_name = normalize_location(record[\"Country Name\"])\n",
    "    \n",
    "    # Add record to population_data_filtered if relevant\n",
    "    if normalized_name in teams and record[\"Year\"] == \"2018\":\n",
    "        # Replace the country name in the record\n",
    "        record[\"Country Name\"] = normalized_name\n",
    "        # Append to list\n",
    "        population_data_filtered.append(record)\n",
    "\n",
    "len(population_data_filtered)\n"
   ]
  },
  {
   "cell_type": "code",
   "execution_count": 93,
   "id": "d07cf946-9e44-4938-9e3d-7bec4546318a",
   "metadata": {},
   "outputs": [
    {
     "data": {
      "text/plain": [
       "{'Country Name': 'Argentina',\n",
       " 'Country Code': 'ARG',\n",
       " 'Year': '2018',\n",
       " 'Value': '44654882'}"
      ]
     },
     "execution_count": 93,
     "metadata": {},
     "output_type": "execute_result"
    }
   ],
   "source": [
    "#Type Conversion of Population Data\n",
    "\n",
    "population_data_filtered[0]\n"
   ]
  },
  {
   "cell_type": "code",
   "execution_count": 95,
   "id": "dba8944d-8271-4bb1-96c9-b96951508030",
   "metadata": {},
   "outputs": [
    {
     "data": {
      "text/plain": [
       "{'Country Name': 'Uruguay',\n",
       " 'Country Code': 'URY',\n",
       " 'Year': '2018',\n",
       " 'Value': 3394534}"
      ]
     },
     "execution_count": 95,
     "metadata": {},
     "output_type": "execute_result"
    }
   ],
   "source": [
    "#Convert population values into integers\n",
    "\n",
    "for record in population_data_filtered:\n",
    "    record[\"Value\"]=int(record[\"Value\"])\n",
    "\n",
    "population_data_filtered[-1]"
   ]
  },
  {
   "cell_type": "code",
   "execution_count": 96,
   "id": "7ddcb36a-73bd-4080-9086-cdb47f28e84c",
   "metadata": {},
   "outputs": [],
   "source": [
    "assert type(population_data_filtered[-1][\"Value\"]) == int"
   ]
  },
  {
   "cell_type": "code",
   "execution_count": 97,
   "id": "578c9e3e-fa21-439d-ba3c-649bf34428fe",
   "metadata": {},
   "outputs": [
    {
     "data": {
      "text/plain": [
       "{'Argentina': {'wins': 1},\n",
       " 'Australia': {'wins': 0},\n",
       " 'Belgium': {'wins': 6},\n",
       " 'Brazil': {'wins': 3},\n",
       " 'Colombia': {'wins': 2},\n",
       " 'Costa Rica': {'wins': 0},\n",
       " 'Croatia': {'wins': 3},\n",
       " 'Denmark': {'wins': 1},\n",
       " 'Egypt': {'wins': 0},\n",
       " 'England': {'wins': 3},\n",
       " 'France': {'wins': 6},\n",
       " 'Germany': {'wins': 1},\n",
       " 'Iceland': {'wins': 0},\n",
       " 'Iran': {'wins': 1},\n",
       " 'Japan': {'wins': 1},\n",
       " 'Mexico': {'wins': 2},\n",
       " 'Morocco': {'wins': 0},\n",
       " 'Nigeria': {'wins': 1},\n",
       " 'Panama': {'wins': 0},\n",
       " 'Peru': {'wins': 1},\n",
       " 'Poland': {'wins': 1},\n",
       " 'Portugal': {'wins': 1},\n",
       " 'Russia': {'wins': 2},\n",
       " 'Saudi Arabia': {'wins': 1},\n",
       " 'Senegal': {'wins': 1},\n",
       " 'Serbia': {'wins': 1},\n",
       " 'South Korea': {'wins': 1},\n",
       " 'Spain': {'wins': 1},\n",
       " 'Sweden': {'wins': 3},\n",
       " 'Switzerland': {'wins': 1},\n",
       " 'Tunisia': {'wins': 1},\n",
       " 'Uruguay': {'wins': 4}}"
      ]
     },
     "execution_count": 97,
     "metadata": {},
     "output_type": "execute_result"
    }
   ],
   "source": [
    "#Adding Population Data\n",
    "\n",
    "combined_data"
   ]
  },
  {
   "cell_type": "code",
   "execution_count": 98,
   "id": "fdb910f2-121c-4f20-a623-8b99776127c6",
   "metadata": {},
   "outputs": [
    {
     "data": {
      "text/plain": [
       "{'Argentina': {'wins': 1, 'population': 44654882},\n",
       " 'Australia': {'wins': 0, 'population': 24963258},\n",
       " 'Belgium': {'wins': 6, 'population': 11427054},\n",
       " 'Brazil': {'wins': 3, 'population': 206107261},\n",
       " 'Colombia': {'wins': 2, 'population': 49024465},\n",
       " 'Costa Rica': {'wins': 0, 'population': 4957818},\n",
       " 'Croatia': {'wins': 3, 'population': 3988775},\n",
       " 'Denmark': {'wins': 1, 'population': 5793636},\n",
       " 'Egypt': {'wins': 0, 'population': 105682094},\n",
       " 'England': {'wins': 3, 'population': 66460344},\n",
       " 'France': {'wins': 6, 'population': 67158348},\n",
       " 'Germany': {'wins': 1, 'population': 82905782},\n",
       " 'Iceland': {'wins': 0, 'population': 352721},\n",
       " 'Iran': {'wins': 1, 'population': 86117998},\n",
       " 'Japan': {'wins': 1, 'population': 126811000},\n",
       " 'Mexico': {'wins': 2, 'population': 124573711},\n",
       " 'Morocco': {'wins': 0, 'population': 35839760},\n",
       " 'Nigeria': {'wins': 1, 'population': 204938755},\n",
       " 'Panama': {'wins': 0, 'population': 4167860},\n",
       " 'Peru': {'wins': 1, 'population': 31897584},\n",
       " 'Poland': {'wins': 1, 'population': 37974750},\n",
       " 'Portugal': {'wins': 1, 'population': 10283822},\n",
       " 'Russia': {'wins': 2, 'population': 145398106},\n",
       " 'Saudi Arabia': {'wins': 1, 'population': 30196281},\n",
       " 'Senegal': {'wins': 1, 'population': 15914498},\n",
       " 'Serbia': {'wins': 1, 'population': 6982604},\n",
       " 'South Korea': {'wins': 1, 'population': 51585058},\n",
       " 'Spain': {'wins': 1, 'population': 46797754},\n",
       " 'Sweden': {'wins': 3, 'population': 10175214},\n",
       " 'Switzerland': {'wins': 1, 'population': 8514329},\n",
       " 'Tunisia': {'wins': 1, 'population': 11765514},\n",
       " 'Uruguay': {'wins': 4, 'population': 3394534}}"
      ]
     },
     "execution_count": 98,
     "metadata": {},
     "output_type": "execute_result"
    }
   ],
   "source": [
    "for record in population_data_filtered:\n",
    "    country=record[\"Country Name\"]\n",
    "    population = record[\"Value\"]\n",
    "    combined_data[country][\"population\"]=population\n",
    "\n",
    "combined_data"
   ]
  },
  {
   "cell_type": "code",
   "execution_count": 99,
   "id": "81baadfe-23a2-48a4-a4ad-9de2942890e0",
   "metadata": {},
   "outputs": [],
   "source": [
    "assert type(combined_data[\"Uruguay\"]) == dict\n",
    "assert type(combined_data[\"Uruguay\"][\"population\"]) == int"
   ]
  },
  {
   "cell_type": "code",
   "execution_count": 100,
   "id": "2d5995e4-925f-4d28-9f62-db5e717fc8c6",
   "metadata": {},
   "outputs": [
    {
     "name": "stdout",
     "output_type": "stream",
     "text": [
      "Mean population: 52087674.0625\n",
      "Median population: 33868672.0\n",
      "Standard deviation of population: 55976928.13479507\n"
     ]
    }
   ],
   "source": [
    "#ANALYSIS OF POPULATION\n",
    "\n",
    "populations = [val[\"population\"] for val in combined_data.values()]\n",
    "\n",
    "print(\"Mean population:\", np.mean(populations))\n",
    "print(\"Median population:\", np.median(populations))\n",
    "print(\"Standard deviation of population:\", np.std(populations))"
   ]
  },
  {
   "cell_type": "code",
   "execution_count": 101,
   "id": "82fbf3a0-d7ac-445b-9d09-d5eca56fcab5",
   "metadata": {},
   "outputs": [
    {
     "data": {
      "image/png": "[encoded data removed]",
      "text/plain": [
       "<Figure size 1200x700 with 2 Axes>"
      ]
     },
     "metadata": {},
     "output_type": "display_data"
    }
   ],
   "source": [
    "#Visualization of population:\n",
    "\n",
    "# Run this cell without changes\n",
    "\n",
    "# Set up figure and axes\n",
    "fig, (ax1, ax2) = plt.subplots(ncols=2, figsize=(12, 7))\n",
    "fig.set_tight_layout(True)\n",
    "\n",
    "# Histogram of Populations and Frequencies\n",
    "ax1.hist(x=populations, color=\"blue\")\n",
    "ax1.set_xlabel(\"2018 Population\")\n",
    "ax1.set_ylabel(\"Frequency\")\n",
    "ax1.set_title(\"Distribution of Population\")\n",
    "\n",
    "# Horizontal Bar Graph of Population by Country\n",
    "ax2.barh(teams[::-1], populations[::-1], color=\"blue\")\n",
    "ax2.set_xlabel(\"2018 Population\")\n",
    "ax2.set_title(\"Population by Country\");"
   ]
  },
  {
   "cell_type": "code",
   "execution_count": 104,
   "id": "5aae6566-da2b-4012-9064-b2a118fa662e",
   "metadata": {},
   "outputs": [
    {
     "data": {
      "text/plain": [
       "0.06688156766055764"
      ]
     },
     "execution_count": 104,
     "metadata": {},
     "output_type": "execute_result"
    }
   ],
   "source": [
    "#ANALYSIS OF POPULATION vs PERFORMANCE\n",
    "\n",
    "np.corrcoef(wins, populations)[0][1]"
   ]
  },
  {
   "cell_type": "code",
   "execution_count": 105,
   "id": "6905a86f-0f5f-4ab1-9496-3d3d8e2306b2",
   "metadata": {},
   "outputs": [],
   "source": [
    "#It is 0.0668 means no correlation between population and the world cup wins 2018"
   ]
  },
  {
   "cell_type": "code",
   "execution_count": 107,
   "id": "061cf383-dc80-4aee-8444-264e3f46949c",
   "metadata": {},
   "outputs": [
    {
     "data": {
      "image/png": "[encoded data removed]",
      "text/plain": [
       "<Figure size 800x500 with 1 Axes>"
      ]
     },
     "metadata": {},
     "output_type": "display_data"
    }
   ],
   "source": [
    "#Data Visualization\n",
    "\n",
    "# Run this cell without changes\n",
    "\n",
    "# Set up figure\n",
    "fig, ax = plt.subplots(figsize=(8, 5))\n",
    "\n",
    "# Basic scatter plot\n",
    "ax.scatter(x=populations, y=wins, color=\"gray\", alpha=0.5, s=100)\n",
    "ax.set_xlabel(\"2018 Population\")\n",
    "ax.set_ylabel(\"2018 World Cup Wins\")\n",
    "ax.set_title(\"Population vs. World Cup Wins\")\n",
    "\n",
    "# Add annotations for specific points of interest\n",
    "highlighted_points = {\n",
    "    \"Belgium\": 2,  # Numbers are the index of that\n",
    "    \"Brazil\": 3,  # country in populations & wins\n",
    "    \"France\": 10,\n",
    "    \"Nigeria\": 17,\n",
    "}\n",
    "for country, index in highlighted_points.items():\n",
    "    # Get x and y position of data point\n",
    "    x = populations[index]\n",
    "    y = wins[index]\n",
    "    # Move each point slightly down and to the left\n",
    "    # (numbers were chosen by manually tweaking)\n",
    "    xtext = x - (1.25e6 * len(country))\n",
    "    ytext = y - 0.5\n",
    "    # Annotate with relevant arguments\n",
    "    ax.annotate(text=country, xy=(x, y), xytext=(xtext, ytext))"
   ]
  },
  {
   "cell_type": "code",
   "execution_count": 111,
   "id": "48615842-adb1-4210-b44a-8116f771fa85",
   "metadata": {},
   "outputs": [
    {
     "data": {
      "text/plain": [
       "'The scatter plot shows the number of World Cup wins in 2018 on the y-axis and the population of each country on the x-axis.\\n\\nFrom the plot, we can see that:\\nThere is no clear pattern — countries with big populations don’t always win more games.\\nFor example, Belgium and France had a lot of wins, but their populations are not big.\\nCountries with huge populations like Nigeria and Brazil had fewer wins than Belgium or France.\\n\\nThis matches what we saw from the correlation number, which was close to 0 which means there is no strong relationship between population and winning in the 2018 World Cup.'"
      ]
     },
     "execution_count": 111,
     "metadata": {},
     "output_type": "execute_result"
    }
   ],
   "source": [
    "\"\"\"The scatter plot shows the number of World Cup wins in 2018 on the y-axis and the population of each country on the x-axis.\n",
    "\n",
    "From the plot, we can see that:\n",
    "There is no clear pattern — countries with big populations don’t always win more games.\n",
    "For example, Belgium and France had a lot of wins, but their populations are not big.\n",
    "Countries with huge populations like Nigeria and Brazil had fewer wins than Belgium or France.\n",
    "\n",
    "This matches what we saw from the correlation number, which was close to 0 which means there is no strong relationship between population and winning in the 2018 World Cup.\"\"\""
   ]
  },
  {
   "cell_type": "code",
   "execution_count": 110,
   "id": "d7c5e898-e815-4efa-847c-9ab59c8b1141",
   "metadata": {},
   "outputs": [
    {
     "data": {
      "text/plain": [
       "'\\nWe found that there is not a strong connection between how big a country’s population is and how well they did in the 2018 World Cup.\\n\\nWhy might this happen?\\n- Big populations don’t always mean better teams. Some smaller countries have really good football programs.\\n- Countries like Belgium and Croatia have fewer people but still performed very well.\\n\\nIn short: population doesn’t seem to make a big difference for winning in the World Cup, at least in 2018!\\n'"
      ]
     },
     "execution_count": 110,
     "metadata": {},
     "output_type": "execute_result"
    }
   ],
   "source": [
    "\"\"\"\n",
    "We found that there is not a strong connection between how big a country’s population is and how well they did in the 2018 World Cup.\n",
    "\n",
    "Why might this happen?\n",
    "- Big populations don’t always mean better teams. Some smaller countries have really good football programs.\n",
    "- Countries like Belgium and Croatia have fewer people but still performed very well.\n",
    "\n",
    "In short: population doesn’t seem to make a big difference for winning in the World Cup, at least in 2018!\n",
    "\"\"\""
   ]
  },
  {
   "cell_type": "code",
   "execution_count": null,
   "id": "8f4d0032-5d96-4d73-9a85-14afbd6336a7",
   "metadata": {},
   "outputs": [],
   "source": []
  }
 ],
 "metadata": {
  "kernelspec": {
   "display_name": "Python 3 (ipykernel)",
   "language": "python",
   "name": "python3"
  },
  "language_info": {
   "codemirror_mode": {
    "name": "ipython",
    "version": 3
   },
   "file_extension": ".py",
   "mimetype": "text/x-python",
   "name": "python",
   "nbconvert_exporter": "python",
   "pygments_lexer": "ipython3",
   "version": "3.12.7"
  }
 },
 "nbformat": 4,
 "nbformat_minor": 5
}
